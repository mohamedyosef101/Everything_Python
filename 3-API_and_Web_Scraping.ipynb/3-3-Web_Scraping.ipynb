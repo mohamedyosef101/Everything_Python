{
 "cells": [
  {
   "cell_type": "markdown",
   "metadata": {},
   "source": [
    "## What is web scraping\n",
    "The process of extracting data from websites automatically.\n",
    "\n",
    "### How web scraping works:\n",
    "\n",
    "* When you visit a web page, the browser sends a request to the server hosting that web page and the server responds with the HTML, CSS, and JS code that constructs the page on the browser.\n",
    "\n",
    "* When the server responds with the page code, the scraper can parse through it to extract the data it needs.\n",
    "\n",
    "* Scrapers typically target specific parts of a page, like product listings or tables.\n",
    "\n",
    "* Scraped data is usually structured and outputted as JSON, CSV or some other structured format. This makes it easy to work with programatically.\n",
    "\n",
    "#### The library\n",
    "In this notebook we'll use BeatuifulSoup.\n",
    "\n",
    "\n",
    "## Let's start scraping\n",
    "To demonstrate web scraping, let's try extracting data from a simple HTML page:"
   ]
  },
  {
   "cell_type": "code",
   "execution_count": null,
   "metadata": {
    "vscode": {
     "languageId": "html"
    }
   },
   "outputs": [],
   "source": [
    "<html>\n",
    "<body>\n",
    "\n",
    "<h1>Top 5 Fruits</h1>\n",
    "\n",
    "<ul>\n",
    "<li>Apples</li> \n",
    "<li>Oranges</li>\n",
    "<li>Bananas</li>\n",
    "<li>Grapes</li>\n",
    "<li>Strawberries</li>\n",
    "</ul>\n",
    "\n",
    "</body>\n",
    "</html>"
   ]
  },
  {
   "cell_type": "markdown",
   "metadata": {},
   "source": [
    "#### we want to extract the names of the fruits into a list"
   ]
  },
  {
   "cell_type": "code",
   "execution_count": 2,
   "metadata": {},
   "outputs": [],
   "source": [
    "# import BeautifulSoup the library\n",
    "from bs4 import BeautifulSoup\n",
    "\n",
    "with open(\"./3.99-files/fruits.html\") as f:\n",
    "    soup = BeautifulSoup(f, 'html.parser')"
   ]
  },
  {
   "cell_type": "markdown",
   "metadata": {},
   "source": [
    "This creates a BeautifulSoup object that we can now traverse and search like a parse tree.\n",
    "\n",
    "\n",
    "To extract the fruits names, we can select the <span style=\"color: #00a1ff; background-color: #111111; border-radius: 2px 4px; padding: 0 4px;\">\\<li></span> tags and loop through them: "
   ]
  },
  {
   "cell_type": "code",
   "execution_count": 3,
   "metadata": {},
   "outputs": [
    {
     "name": "stdout",
     "output_type": "stream",
     "text": [
      "['Apples', 'Oranges', 'Bananas', 'Grapes', 'Strawberries']\n"
     ]
    }
   ],
   "source": [
    "fruits = []\n",
    "\n",
    "for li in soup.select(\"li\"):\n",
    "    fruits.append(li.text)\n",
    "\n",
    "print(fruits)"
   ]
  },
  {
   "cell_type": "markdown",
   "metadata": {},
   "source": [
    "And we have successfully scraped the data we wanted!\n",
    "\n",
    "The same principles apply when scraping any web page. You inspect the HTML, identify patterns and select elements to extract data."
   ]
  },
  {
   "cell_type": "markdown",
   "metadata": {},
   "source": [
    "<hr>\n",
    "\n",
    "There is a lot more to learn, but this should provide a solid starting point for your web scraping journey!\n",
    "\n",
    "\n",
    "* For more I recommend watching <a href=\"https://youtu.be/7ahUnBhdI5o\">the web scraper project with Tiff</a>\n",
    "\n",
    ". . . . . . . \n",
    "\n",
    "&copy; Created by <a href=\"https://github.com/mohamedyosef101\">Mohamed Yosef </a> | *<a href=\"https://medium.com/@mohamedyosef101\">Medium</a> - <a href=\"https://linkedin.com/in/mohamedyosef101\">LinkedIn</a>*\n",
    "\n",
    "<hr>"
   ]
  }
 ],
 "metadata": {
  "kernelspec": {
   "display_name": "Python 3",
   "language": "python",
   "name": "python3"
  },
  "language_info": {
   "codemirror_mode": {
    "name": "ipython",
    "version": 3
   },
   "file_extension": ".py",
   "mimetype": "text/x-python",
   "name": "python",
   "nbconvert_exporter": "python",
   "pygments_lexer": "ipython3",
   "version": "3.11.4"
  },
  "orig_nbformat": 4
 },
 "nbformat": 4,
 "nbformat_minor": 2
}
