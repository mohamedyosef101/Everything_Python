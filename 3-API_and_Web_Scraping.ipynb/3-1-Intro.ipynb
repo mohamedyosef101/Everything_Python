{
 "cells": [
  {
   "cell_type": "markdown",
   "metadata": {},
   "source": [
    "## What is a <span style=\"color: #00a1ff\">REST API</span> (from a Python perspective)\n",
    "An API (<b style=\"color: #00a1ff\">A</b>pplication <b style=\"color: #00a1ff\">P</b>rogramming <b style=\"color: #00a1ff\">I</b>nterface) is a a way for two computer programs to communicate over the internet using the HTTP protocol. The Python program acts as the client and sends requests to the server.\n",
    "\n",
    "The server hosts the API and contains the data and logic. When it receives a request, it processes it, performs any actions, and returns a response.\n",
    "\n",
    "<img src=\"https://www.altexsoft.com/media/2021/03/rest_api_works.png\" width=\"640\">"
   ]
  },
  {
   "cell_type": "markdown",
   "metadata": {},
   "source": [
    "<b style=\"color: #00a1ff\"> REST API </b>(Representational state transfer) is an API that uses HTTP requests for communication with web services.\n",
    "\n",
    "## Types of Requests\n",
    "\n",
    "* <span style=\"color: #00a1ff\">GET</span> - Read data. *It doesn't change any data.*\n",
    "\n",
    "* <span style=\"color: #00a1ff\">POST</span> - Create data.\n",
    "\n",
    "* <span style=\"color: #00a1ff\">PUT</span> - Update existing data.\n",
    "\n",
    "* <span style=\"color: #00a1ff\">DELETE</span> - Delete data.\n",
    "\n",
    "To access a REST API in Python, you use the requests library. You make a request to a specific URL endpoint and get back a response."
   ]
  },
  {
   "cell_type": "code",
   "execution_count": 1,
   "metadata": {},
   "outputs": [
    {
     "name": "stdout",
     "output_type": "stream",
     "text": [
      "<Response [200]>\n"
     ]
    }
   ],
   "source": [
    "import requests \n",
    "response = requests.get('https://google.com/')\n",
    "print(response)"
   ]
  },
  {
   "cell_type": "markdown",
   "metadata": {},
   "source": [
    "## Status Codes\n",
    "They briefly describe the result of the call.\n",
    "\n",
    "<b>Some common status codes are: </b>\n",
    "\n",
    "* <span style=\"color: #00a1ff;\">200 OK</span> - The request was successful\n",
    "\n",
    "* <span style=\"color: #00a1ff\">201 Created</span> - The request was successful and a resource was created\n",
    "\n",
    "* <span style=\"color: #FF4D4D;\">400 Bad Request</span> - There was a problem with the request sent by the client\n",
    "\n",
    "* <span style=\"color: #FF4D4D;\">401 Unauthorized</span> - The request requires authentication\n",
    "\n",
    "* <span style=\"color: #FF4D4D;\">403 Forbidden</span> - The client does not have permission to access the resource\n",
    "\n",
    "* <span style=\"color: #FF4D4D;\">404 Not Found</span> - The resource was not found on the server\n",
    "\n",
    "* 500 Internal Server Error - There was an error on the server side"
   ]
  },
  {
   "cell_type": "markdown",
   "metadata": {},
   "source": [
    "## Endpoints\n",
    "The URLs of the API that you make requests to.\n",
    "\n",
    "For example, a typical REST API might have endpoints like:\n",
    "* <span style=\"color: #00a1ff\">GET /users</span> - Get a list of all users\n",
    "\n",
    "* <span style=\"color: #00a1ff\">GET /users/123</span> - Get details of user with id 123\n",
    "\n",
    "* <span style=\"color: #00a1ff\">POST /users</span> - Create a new user\n",
    "\n",
    "* <span style=\"color: #00a1ff\">PUT /users/123</span> - Update user with id 123\n",
    "\n",
    "* <span style=\"color: #00a1ff\">DELETE /users/123</span> - Delete user with id 123\n",
    "\n",
    "So endpoints represent the different API resources or actions that you can interact with.\n",
    "\n",
    "The structure of endpoints is up to the API designer but usually follows logical patterns and conventions:\n",
    "\n",
    "* <span style=\"color: #00a1ff\">/users</span> - Plural nouns for collections\n",
    "\n",
    "* <span style=\"color: #00a1ff\">/users/123</span> - Singular nouns for specific objects\n",
    "\n",
    "* <span style=\"color: #00a1ff\">/create-user</span> - Verbs for actions\n",
    "\n",
    "When using a REST API in Python, you need to know what endpoints are available and what requests they support. This information is usually provided in the API documentation."
   ]
  },
  {
   "cell_type": "markdown",
   "metadata": {},
   "source": [
    "## Getting a JSON response from an API request\n",
    "Many APIs retrun data in JSON format. JSON looks like Python lists and dictionaries.\n",
    "\n",
    "To convert JSON to Python use >> <sapn style=\"color: #00a1ff\">json()</span>"
   ]
  },
  {
   "cell_type": "markdown",
   "metadata": {},
   "source": [
    "Enough talking... Let's do some practise with the next notebook >>"
   ]
  }
 ],
 "metadata": {
  "kernelspec": {
   "display_name": "Python 3",
   "language": "python",
   "name": "python3"
  },
  "language_info": {
   "codemirror_mode": {
    "name": "ipython",
    "version": 3
   },
   "file_extension": ".py",
   "mimetype": "text/x-python",
   "name": "python",
   "nbconvert_exporter": "python",
   "pygments_lexer": "ipython3",
   "version": "3.11.4"
  },
  "orig_nbformat": 4
 },
 "nbformat": 4,
 "nbformat_minor": 2
}
