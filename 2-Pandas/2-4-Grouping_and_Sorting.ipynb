{
 "cells": [
  {
   "cell_type": "code",
   "execution_count": 14,
   "metadata": {},
   "outputs": [],
   "source": [
    "# lets get started\n",
    "import pandas as pd\n",
    "\n",
    "# open the data\n",
    "orders = pd.read_csv(\"./2-99-Data_files/orders.csv\")"
   ]
  },
  {
   "cell_type": "code",
   "execution_count": 6,
   "metadata": {},
   "outputs": [
    {
     "data": {
      "text/html": [
       "<div>\n",
       "<style scoped>\n",
       "    .dataframe tbody tr th:only-of-type {\n",
       "        vertical-align: middle;\n",
       "    }\n",
       "\n",
       "    .dataframe tbody tr th {\n",
       "        vertical-align: top;\n",
       "    }\n",
       "\n",
       "    .dataframe thead th {\n",
       "        text-align: right;\n",
       "    }\n",
       "</style>\n",
       "<table border=\"1\" class=\"dataframe\">\n",
       "  <thead>\n",
       "    <tr style=\"text-align: right;\">\n",
       "      <th></th>\n",
       "      <th>OrderID</th>\n",
       "      <th>OrderDate</th>\n",
       "      <th>OrderTotal</th>\n",
       "      <th>CookieID</th>\n",
       "      <th>CookieName</th>\n",
       "      <th>RevenuePerCookie</th>\n",
       "      <th>CostPerCookie</th>\n",
       "      <th>Quantity</th>\n",
       "      <th>CustomerID</th>\n",
       "      <th>CustomerName</th>\n",
       "      <th>Phone</th>\n",
       "      <th>Address</th>\n",
       "      <th>City</th>\n",
       "      <th>State</th>\n",
       "      <th>Zip</th>\n",
       "      <th>Country</th>\n",
       "      <th>Notes</th>\n",
       "    </tr>\n",
       "  </thead>\n",
       "  <tbody>\n",
       "    <tr>\n",
       "      <th>0</th>\n",
       "      <td>1</td>\n",
       "      <td>1/1/2022</td>\n",
       "      <td>1815</td>\n",
       "      <td>1</td>\n",
       "      <td>Chocolate Chip</td>\n",
       "      <td>5</td>\n",
       "      <td>2.0</td>\n",
       "      <td>229</td>\n",
       "      <td>5</td>\n",
       "      <td>Park &amp; Shop Convenience Stores</td>\n",
       "      <td>251-655-2909</td>\n",
       "      <td>2217 Lonely Oak Drive</td>\n",
       "      <td>Mobile</td>\n",
       "      <td>AL</td>\n",
       "      <td>36602</td>\n",
       "      <td>United States</td>\n",
       "      <td>New customer, make sure to please them! Very f...</td>\n",
       "    </tr>\n",
       "  </tbody>\n",
       "</table>\n",
       "</div>"
      ],
      "text/plain": [
       "   OrderID OrderDate  OrderTotal  CookieID      CookieName  RevenuePerCookie  \\\n",
       "0        1  1/1/2022        1815         1  Chocolate Chip                 5   \n",
       "\n",
       "   CostPerCookie  Quantity  CustomerID                    CustomerName  \\\n",
       "0            2.0       229           5  Park & Shop Convenience Stores   \n",
       "\n",
       "          Phone                Address    City State    Zip        Country  \\\n",
       "0  251-655-2909  2217 Lonely Oak Drive  Mobile    AL  36602  United States   \n",
       "\n",
       "                                               Notes  \n",
       "0  New customer, make sure to please them! Very f...  "
      ]
     },
     "execution_count": 6,
     "metadata": {},
     "output_type": "execute_result"
    }
   ],
   "source": [
    "orders.iloc[:1]"
   ]
  },
  {
   "cell_type": "markdown",
   "metadata": {},
   "source": [
    "### Groupwise analysis"
   ]
  },
  {
   "cell_type": "code",
   "execution_count": 16,
   "metadata": {},
   "outputs": [
    {
     "data": {
      "text/plain": [
       "CostPerCookie\n",
       "0.50    22\n",
       "1.25    22\n",
       "1.50    24\n",
       "2.00    20\n",
       "2.20    22\n",
       "2.75    21\n",
       "Name: CostPerCookie, dtype: int64"
      ]
     },
     "execution_count": 16,
     "metadata": {},
     "output_type": "execute_result"
    }
   ],
   "source": [
    "# we can count values but with grouping\n",
    "orders.groupby('CostPerCookie').CostPerCookie.count()"
   ]
  },
  {
   "cell_type": "code",
   "execution_count": 18,
   "metadata": {},
   "outputs": [
    {
     "data": {
      "text/plain": [
       "CookieName\n",
       "Chocolate Chip                   2937\n",
       "Fortune Cookie                   3468\n",
       "Oatmeal Raisin                   2494\n",
       "Snickerdoodle                    2751\n",
       "Sugar                            3110\n",
       "White Chocolate Macadamia Nut    2489\n",
       "Name: Quantity, dtype: int64"
      ]
     },
     "execution_count": 18,
     "metadata": {},
     "output_type": "execute_result"
    }
   ],
   "source": [
    "# more specific comparison \n",
    "orders.groupby('CookieName').Quantity.sum()"
   ]
  },
  {
   "cell_type": "markdown",
   "metadata": {},
   "source": [
    "#### The most common methods used with groupby: \n",
    "\n",
    "- <b style=\"color: #00a1ff\">sum() </b>- Sums up values within each group.\n",
    "\n",
    "- <b style=\"color: #00a1ff\"> mean() </b> - Calculates mean of each group.\n",
    "\n",
    "- <b style=\"color: #00a1ff\"> count() </b> - Counts number of rows in each group.\n",
    "\n",
    "- <b style=\"color: #00a1ff\"> min()/max() </b> - Finds minimum/maximum within each group.\n",
    "\n",
    "- <b style=\"color: #00a1ff\"> first()/last() </b> - Gets first/last row of each group.\n",
    "\n",
    "- <b style=\"color: #00a1ff\"> size() </b> - Number of items in each group.\n",
    "\n",
    "- <b style=\"color: #00a1ff\"> describe() </b> - Summary statistics for each group.\n",
    "\n",
    "- <b style=\"color: #00a1ff\"> agg() </b> - Apply custom aggregation functions.\n",
    "\n",
    "- <b style=\"color: #00a1ff\"> apply() </b> - Apply custom python function to each group."
   ]
  },
  {
   "cell_type": "markdown",
   "metadata": {},
   "source": [
    "### Sorting\n",
    "Get data in value order "
   ]
  },
  {
   "cell_type": "code",
   "execution_count": 20,
   "metadata": {},
   "outputs": [
    {
     "data": {
      "text/plain": [
       "CookieName\n",
       "Fortune Cookie                   3468\n",
       "Sugar                            3110\n",
       "Chocolate Chip                   2937\n",
       "Snickerdoodle                    2751\n",
       "Oatmeal Raisin                   2494\n",
       "White Chocolate Macadamia Nut    2489\n",
       "Name: Quantity, dtype: int64"
      ]
     },
     "execution_count": 20,
     "metadata": {},
     "output_type": "execute_result"
    }
   ],
   "source": [
    "# we have done this above\n",
    "Cookie_Quan = orders.groupby('CookieName').Quantity.sum()\n",
    "\n",
    "# but we want to sort it for the largest quantity to the smallest one\n",
    "\n",
    "Cookie_Quan.sort_values(ascending=False)"
   ]
  },
  {
   "cell_type": "markdown",
   "metadata": {},
   "source": [
    ". . .  . . . . . . . . . . . . . . . . .\n",
    "<br> <br>\n",
    "\n",
    "* *for more resources you can visit <a href=\"https://www.kaggle.com/learn\">Kaggle</a> or <a href=\"https://www.coursera.org/professional-certificates/ibm-data-science\">IBM Skills</a>*\n",
    "\n",
    "* *It will be great if you use the AI chatbots to quiz or to get more details.*\n",
    "\n",
    "<br>\n",
    "<hr>\n",
    "\n",
    "Created by <a href=\"https://github.com/mohamedyosef101\">Mohamed Yosef </a>\n",
    "\n",
    "*You can follow me on <a href=\"https://medium.com/@mohamedyosef101\">Medium</a> - <a href=\"https://linkedin.com/in/mohamedyosef101\">LinkedIn</a>*\n",
    "\n",
    "<hr>"
   ]
  }
 ],
 "metadata": {
  "kernelspec": {
   "display_name": "Python 3",
   "language": "python",
   "name": "python3"
  },
  "language_info": {
   "codemirror_mode": {
    "name": "ipython",
    "version": 3
   },
   "file_extension": ".py",
   "mimetype": "text/x-python",
   "name": "python",
   "nbconvert_exporter": "python",
   "pygments_lexer": "ipython3",
   "version": "3.11.4"
  },
  "orig_nbformat": 4
 },
 "nbformat": 4,
 "nbformat_minor": 2
}
