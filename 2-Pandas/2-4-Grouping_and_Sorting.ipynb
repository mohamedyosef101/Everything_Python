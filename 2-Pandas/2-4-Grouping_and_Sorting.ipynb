{
 "cells": [
  {
   "cell_type": "code",
   "execution_count": null,
   "metadata": {},
   "outputs": [],
   "source": [
    "# lets get started\n",
    "import pandas as pd\n",
    "\n",
    "# open the data\n",
    "orders = pd.read_csv(\"./2-99-Data_files/orders.csv\")"
   ]
  },
  {
   "cell_type": "code",
   "execution_count": null,
   "metadata": {},
   "outputs": [],
   "source": [
    "orders.iloc[:1]"
   ]
  },
  {
   "cell_type": "markdown",
   "metadata": {},
   "source": [
    "### Groupwise analysis"
   ]
  },
  {
   "cell_type": "code",
   "execution_count": null,
   "metadata": {},
   "outputs": [],
   "source": [
    "# we can count values but with grouping\n",
    "orders.groupby('CostPerCookie').CostPerCookie.count()"
   ]
  },
  {
   "cell_type": "code",
   "execution_count": null,
   "metadata": {},
   "outputs": [],
   "source": [
    "# more specific comparison \n",
    "orders.groupby('CookieName').Quantity.sum()"
   ]
  },
  {
   "cell_type": "markdown",
   "metadata": {},
   "source": [
    "#### The most common methods used with groupby: \n",
    "\n",
    "- <b style=\"color: #00a1ff\">sum() </b>- Sums up values within each group.\n",
    "\n",
    "- <b style=\"color: #00a1ff\"> mean() </b> - Calculates mean of each group.\n",
    "\n",
    "- <b style=\"color: #00a1ff\"> count() </b> - Counts number of rows in each group.\n",
    "\n",
    "- <b style=\"color: #00a1ff\"> min()/max() </b> - Finds minimum/maximum within each group.\n",
    "\n",
    "- <b style=\"color: #00a1ff\"> first()/last() </b> - Gets first/last row of each group.\n",
    "\n",
    "- <b style=\"color: #00a1ff\"> size() </b> - Number of items in each group.\n",
    "\n",
    "- <b style=\"color: #00a1ff\"> describe() </b> - Summary statistics for each group.\n",
    "\n",
    "- <b style=\"color: #00a1ff\"> agg() </b> - Apply custom aggregation functions.\n",
    "\n",
    "- <b style=\"color: #00a1ff\"> apply() </b> - Apply custom python function to each group."
   ]
  },
  {
   "cell_type": "markdown",
   "metadata": {},
   "source": [
    "### Sorting\n",
    "Get data in value order "
   ]
  },
  {
   "cell_type": "code",
   "execution_count": null,
   "metadata": {},
   "outputs": [],
   "source": [
    "# we have done this above\n",
    "Cookie_Quan = orders.groupby('CookieName').Quantity.sum()\n",
    "\n",
    "# but we want to sort it for the largest quantity to the smallest one\n",
    "\n",
    "Cookie_Quan.sort_values(ascending=False)"
   ]
  },
  {
   "cell_type": "markdown",
   "metadata": {},
   "source": [
    ". . .  . . . . . . . . . . . . . . . . .\n",
    "<br> <br>\n",
    "\n",
    "### For more in-depth guide, you can visit <a href=\"https://pandas.pydata.org/docs/user_guide/index.html#user-guide\">Pandas Doc</a>\n",
    "\n",
    "* *It will be great if you use the AI chatbots to quiz or to get more details.*\n",
    "\n",
    "<br>\n",
    "<hr>\n",
    "\n",
    "Created by <a href=\"https://github.com/mohamedyosef101\">Mohamed Yosef </a>\n",
    "\n",
    "*You can follow me on <a href=\"https://medium.com/@mohamedyosef101\">Medium</a> - <a href=\"https://linkedin.com/in/mohamedyosef101\">LinkedIn</a>*\n",
    "\n",
    "<hr>"
   ]
  }
 ],
 "metadata": {
  "kernelspec": {
   "display_name": "Python 3",
   "language": "python",
   "name": "python3"
  },
  "language_info": {
   "codemirror_mode": {
    "name": "ipython",
    "version": 3
   },
   "file_extension": ".py",
   "mimetype": "text/x-python",
   "name": "python",
   "nbconvert_exporter": "python",
   "pygments_lexer": "ipython3",
   "version": "3.11.4"
  },
  "orig_nbformat": 4
 },
 "nbformat": 4,
 "nbformat_minor": 2
}
