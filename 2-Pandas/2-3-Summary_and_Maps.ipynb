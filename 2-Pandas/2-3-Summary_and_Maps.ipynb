{
 "cells": [
  {
   "cell_type": "code",
   "execution_count": 27,
   "metadata": {},
   "outputs": [],
   "source": [
    "# let's get started\n",
    "import pandas as pd\n",
    "\n",
    "orders = pd.read_csv(\"./2-99-Data_files/orders.csv\")"
   ]
  },
  {
   "cell_type": "markdown",
   "metadata": {},
   "source": [
    "### Summary functions \n",
    "*It's not an official name but it's useful.*\n",
    "\n",
    "Examples:\n",
    "\n",
    "- describe()\n",
    "\n",
    "- mean()\n",
    "\n",
    "* unique()\n",
    "\n",
    "* value_counts()\n"
   ]
  },
  {
   "cell_type": "code",
   "execution_count": 7,
   "metadata": {},
   "outputs": [
    {
     "data": {
      "text/plain": [
       "count    131.000000\n",
       "mean     131.671756\n",
       "std       68.906787\n",
       "min       11.000000\n",
       "25%       71.500000\n",
       "50%      132.000000\n",
       "75%      186.000000\n",
       "max      245.000000\n",
       "Name: Quantity, dtype: float64"
      ]
     },
     "execution_count": 7,
     "metadata": {},
     "output_type": "execute_result"
    }
   ],
   "source": [
    "# Generate descriptive statistics\n",
    "\n",
    "orders.Quantity.describe()"
   ]
  },
  {
   "cell_type": "code",
   "execution_count": 9,
   "metadata": {},
   "outputs": [
    {
     "data": {
      "text/plain": [
       "array(['Chocolate Chip', 'Fortune Cookie', 'Sugar', 'Oatmeal Raisin',\n",
       "       'Snickerdoodle', 'White Chocolate Macadamia Nut'], dtype=object)"
      ]
     },
     "execution_count": 9,
     "metadata": {},
     "output_type": "execute_result"
    }
   ],
   "source": [
    "# Return uniques values without duplicates\n",
    "orders.CookieName.unique()"
   ]
  },
  {
   "cell_type": "code",
   "execution_count": 10,
   "metadata": {},
   "outputs": [
    {
     "data": {
      "text/plain": [
       "CookieName\n",
       "Snickerdoodle                    24\n",
       "Fortune Cookie                   22\n",
       "Sugar                            22\n",
       "Oatmeal Raisin                   22\n",
       "White Chocolate Macadamia Nut    21\n",
       "Chocolate Chip                   20\n",
       "Name: count, dtype: int64"
      ]
     },
     "execution_count": 10,
     "metadata": {},
     "output_type": "execute_result"
    }
   ],
   "source": [
    "# the count of unique values\n",
    "orders.CookieName.value_counts()"
   ]
  },
  {
   "cell_type": "markdown",
   "metadata": {},
   "source": [
    "### Maps\n",
    "We can use to create a new representation from existing data, also we can use it for formate transforming.\n",
    "<br> <br>\n",
    "<b>There are two core mapping methods:</b>\n",
    "- map()\n",
    "- apply()"
   ]
  },
  {
   "cell_type": "code",
   "execution_count": 21,
   "metadata": {},
   "outputs": [
    {
     "data": {
      "text/plain": [
       "0      2\n",
       "1      0\n",
       "2      1\n",
       "3      2\n",
       "4      1\n",
       "      ..\n",
       "126    1\n",
       "127    2\n",
       "128    2\n",
       "129    1\n",
       "130    2\n",
       "Name: CostPerCookie, Length: 131, dtype: int64"
      ]
     },
     "execution_count": 21,
     "metadata": {},
     "output_type": "execute_result"
    }
   ],
   "source": [
    "# change the data type of costs from float to integer\n",
    "orders.CostPerCookie.map(int)"
   ]
  },
  {
   "cell_type": "code",
   "execution_count": null,
   "metadata": {},
   "outputs": [],
   "source": [
    "orders_quantity_mean = orders.Quantity.mean()\n",
    "\n",
    "def remean_quantity(row):\n",
    "    row.Quantity = row.Quantity - orders_quantity_mean\n",
    "    return row\n",
    "\n",
    "orders.apply(remean_quantity, axis='columns')"
   ]
  },
  {
   "cell_type": "markdown",
   "metadata": {},
   "source": [
    ". . .  . . . . . . . . . . . . . . . . .\n",
    "<br> <br>\n",
    "\n",
    "* *for more resources you can visit <a href=\"https://www.kaggle.com/learn\">Kaggle</a> or <a href=\"https://www.coursera.org/professional-certificates/ibm-data-science\">IBM Skills</a>*\n",
    "\n",
    "* *It will be great if you use the AI chatbots to quiz or to get more details.*\n",
    "\n",
    "<br>\n",
    "<hr>\n",
    "\n",
    "Created by <a href=\"https://github.com/mohamedyosef101\">Mohamed Yosef </a>\n",
    "\n",
    "*You can follow me on <a href=\"https://medium.com/@mohamedyosef101\">Medium</a> - <a href=\"https://linkedin.com/in/mohamedyosef101\">LinkedIn</a>*\n",
    "\n",
    "<hr>"
   ]
  }
 ],
 "metadata": {
  "kernelspec": {
   "display_name": "Python 3",
   "language": "python",
   "name": "python3"
  },
  "language_info": {
   "codemirror_mode": {
    "name": "ipython",
    "version": 3
   },
   "file_extension": ".py",
   "mimetype": "text/x-python",
   "name": "python",
   "nbconvert_exporter": "python",
   "pygments_lexer": "ipython3",
   "version": "3.11.4"
  },
  "orig_nbformat": 4
 },
 "nbformat": 4,
 "nbformat_minor": 2
}
