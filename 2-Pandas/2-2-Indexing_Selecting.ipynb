{
 "cells": [
  {
   "cell_type": "code",
   "execution_count": 1,
   "metadata": {},
   "outputs": [],
   "source": [
    "# let's get started\n",
    "import pandas as pd"
   ]
  },
  {
   "cell_type": "markdown",
   "metadata": {},
   "source": [
    "### Now we need to read our file again"
   ]
  },
  {
   "cell_type": "code",
   "execution_count": 6,
   "metadata": {},
   "outputs": [
    {
     "data": {
      "text/html": [
       "<div>\n",
       "<style scoped>\n",
       "    .dataframe tbody tr th:only-of-type {\n",
       "        vertical-align: middle;\n",
       "    }\n",
       "\n",
       "    .dataframe tbody tr th {\n",
       "        vertical-align: top;\n",
       "    }\n",
       "\n",
       "    .dataframe thead th {\n",
       "        text-align: right;\n",
       "    }\n",
       "</style>\n",
       "<table border=\"1\" class=\"dataframe\">\n",
       "  <thead>\n",
       "    <tr style=\"text-align: right;\">\n",
       "      <th></th>\n",
       "      <th>OrderID</th>\n",
       "      <th>OrderDate</th>\n",
       "      <th>OrderTotal</th>\n",
       "      <th>CookieID</th>\n",
       "      <th>CookieName</th>\n",
       "      <th>RevenuePerCookie</th>\n",
       "      <th>CostPerCookie</th>\n",
       "      <th>Quantity</th>\n",
       "      <th>CustomerID</th>\n",
       "      <th>CustomerName</th>\n",
       "      <th>Phone</th>\n",
       "      <th>Address</th>\n",
       "      <th>City</th>\n",
       "      <th>State</th>\n",
       "      <th>Zip</th>\n",
       "      <th>Country</th>\n",
       "      <th>Notes</th>\n",
       "    </tr>\n",
       "  </thead>\n",
       "  <tbody>\n",
       "    <tr>\n",
       "      <th>0</th>\n",
       "      <td>1</td>\n",
       "      <td>1/1/2022</td>\n",
       "      <td>1815</td>\n",
       "      <td>1</td>\n",
       "      <td>Chocolate Chip</td>\n",
       "      <td>5</td>\n",
       "      <td>2.0</td>\n",
       "      <td>229</td>\n",
       "      <td>5</td>\n",
       "      <td>Park &amp; Shop Convenience Stores</td>\n",
       "      <td>251-655-2909</td>\n",
       "      <td>2217 Lonely Oak Drive</td>\n",
       "      <td>Mobile</td>\n",
       "      <td>AL</td>\n",
       "      <td>36602</td>\n",
       "      <td>United States</td>\n",
       "      <td>New customer, make sure to please them! Very f...</td>\n",
       "    </tr>\n",
       "  </tbody>\n",
       "</table>\n",
       "</div>"
      ],
      "text/plain": [
       "   OrderID OrderDate  OrderTotal  CookieID      CookieName  RevenuePerCookie  \\\n",
       "0        1  1/1/2022        1815         1  Chocolate Chip                 5   \n",
       "\n",
       "   CostPerCookie  Quantity  CustomerID                    CustomerName  \\\n",
       "0            2.0       229           5  Park & Shop Convenience Stores   \n",
       "\n",
       "          Phone                Address    City State    Zip        Country  \\\n",
       "0  251-655-2909  2217 Lonely Oak Drive  Mobile    AL  36602  United States   \n",
       "\n",
       "                                               Notes  \n",
       "0  New customer, make sure to please them! Very f...  "
      ]
     },
     "execution_count": 6,
     "metadata": {},
     "output_type": "execute_result"
    }
   ],
   "source": [
    "orders = pd.read_csv(\"./2-99-Data_files/orders.csv\")\n",
    "orders.head(1)"
   ]
  },
  {
   "cell_type": "code",
   "execution_count": 7,
   "metadata": {},
   "outputs": [
    {
     "data": {
      "text/plain": [
       "0                     Chocolate Chip\n",
       "1                     Fortune Cookie\n",
       "2                              Sugar\n",
       "3                     Oatmeal Raisin\n",
       "4                      Snickerdoodle\n",
       "                   ...              \n",
       "126                    Snickerdoodle\n",
       "127    White Chocolate Macadamia Nut\n",
       "128                   Oatmeal Raisin\n",
       "129                    Snickerdoodle\n",
       "130    White Chocolate Macadamia Nut\n",
       "Name: CookieName, Length: 131, dtype: object"
      ]
     },
     "execution_count": 7,
     "metadata": {},
     "output_type": "execute_result"
    }
   ],
   "source": [
    "# we can acess the property of an object by accessing it as an attribute.\n",
    "orders.CookieName"
   ]
  },
  {
   "cell_type": "code",
   "execution_count": 9,
   "metadata": {},
   "outputs": [
    {
     "data": {
      "text/plain": [
       "0                     Chocolate Chip\n",
       "1                     Fortune Cookie\n",
       "2                              Sugar\n",
       "3                     Oatmeal Raisin\n",
       "4                      Snickerdoodle\n",
       "                   ...              \n",
       "126                    Snickerdoodle\n",
       "127    White Chocolate Macadamia Nut\n",
       "128                   Oatmeal Raisin\n",
       "129                    Snickerdoodle\n",
       "130    White Chocolate Macadamia Nut\n",
       "Name: CookieName, Length: 131, dtype: object"
      ]
     },
     "execution_count": 9,
     "metadata": {},
     "output_type": "execute_result"
    }
   ],
   "source": [
    "# We can also access the values using indexing ([]) operator \n",
    "### if we have a dictionary\n",
    "\n",
    "orders['CookieName']"
   ]
  },
  {
   "cell_type": "code",
   "execution_count": 10,
   "metadata": {},
   "outputs": [
    {
     "data": {
      "text/plain": [
       "'Chocolate Chip'"
      ]
     },
     "execution_count": 10,
     "metadata": {},
     "output_type": "execute_result"
    }
   ],
   "source": [
    "# What if I need a specific value\n",
    "orders[\"CookieName\"][0]"
   ]
  },
  {
   "cell_type": "markdown",
   "metadata": {},
   "source": [
    "### Index-based selection\n",
    "Selecting data based on its numerical position in the data <b style=\"color: #00a1ff; background-color: black; border-radius: 0.25rem; padding: 0 6px;\"> iloc </b>\n",
    "\n",
    "<br>\n"
   ]
  },
  {
   "cell_type": "code",
   "execution_count": 11,
   "metadata": {},
   "outputs": [
    {
     "data": {
      "text/plain": [
       "OrderID                                                             1\n",
       "OrderDate                                                    1/1/2022\n",
       "OrderTotal                                                       1815\n",
       "CookieID                                                            1\n",
       "CookieName                                             Chocolate Chip\n",
       "RevenuePerCookie                                                    5\n",
       "CostPerCookie                                                     2.0\n",
       "Quantity                                                          229\n",
       "CustomerID                                                          5\n",
       "CustomerName                           Park & Shop Convenience Stores\n",
       "Phone                                                    251-655-2909\n",
       "Address                                         2217 Lonely Oak Drive\n",
       "City                                                           Mobile\n",
       "State                                                              AL\n",
       "Zip                                                             36602\n",
       "Country                                                 United States\n",
       "Notes               New customer, make sure to please them! Very f...\n",
       "Name: 0, dtype: object"
      ]
     },
     "execution_count": 11,
     "metadata": {},
     "output_type": "execute_result"
    }
   ],
   "source": [
    "orders.iloc[0]"
   ]
  },
  {
   "cell_type": "markdown",
   "metadata": {},
   "source": [
    "\n",
    "<b style=\"background-color: #ffd4d4; color: red; padding: 1px 4px; border-radius: 2px;\">NOTE ...</b><br><br>\n",
    "Both <b style=\"color: #00a1ff; background-color: black; border-radius: 0.25rem; padding: 0 6px;\"> loc </b> and <b style=\"color: #00a1ff; background-color: black; border-radius: 0.25rem; padding: 0 6px;\"> iloc </b> are row-first, column-second. Not like native Python!"
   ]
  },
  {
   "cell_type": "code",
   "execution_count": 14,
   "metadata": {},
   "outputs": [
    {
     "data": {
      "text/plain": [
       "0                     Chocolate Chip\n",
       "1                     Fortune Cookie\n",
       "2                              Sugar\n",
       "3                     Oatmeal Raisin\n",
       "4                      Snickerdoodle\n",
       "                   ...              \n",
       "126                    Snickerdoodle\n",
       "127    White Chocolate Macadamia Nut\n",
       "128                   Oatmeal Raisin\n",
       "129                    Snickerdoodle\n",
       "130    White Chocolate Macadamia Nut\n",
       "Name: CookieName, Length: 131, dtype: object"
      ]
     },
     "execution_count": 14,
     "metadata": {},
     "output_type": "execute_result"
    }
   ],
   "source": [
    "# To get a coloumn with iloc\n",
    "orders.iloc[:, 4]\n",
    "\n",
    "# ':' means every thing and we can change it with any index range we want\n",
    "# like :3 or 1:3 or [0, 1, 2] or even -4:"
   ]
  },
  {
   "cell_type": "markdown",
   "metadata": {},
   "source": [
    "### Label-based selection \n",
    "Selecting data based on it's index value, not it's position."
   ]
  },
  {
   "cell_type": "code",
   "execution_count": 15,
   "metadata": {},
   "outputs": [
    {
     "data": {
      "text/plain": [
       "'Chocolate Chip'"
      ]
     },
     "execution_count": 15,
     "metadata": {},
     "output_type": "execute_result"
    }
   ],
   "source": [
    "orders.loc[0, 'CookieName']"
   ]
  },
  {
   "cell_type": "code",
   "execution_count": 23,
   "metadata": {},
   "outputs": [
    {
     "data": {
      "text/html": [
       "<div>\n",
       "<style scoped>\n",
       "    .dataframe tbody tr th:only-of-type {\n",
       "        vertical-align: middle;\n",
       "    }\n",
       "\n",
       "    .dataframe tbody tr th {\n",
       "        vertical-align: top;\n",
       "    }\n",
       "\n",
       "    .dataframe thead th {\n",
       "        text-align: right;\n",
       "    }\n",
       "</style>\n",
       "<table border=\"1\" class=\"dataframe\">\n",
       "  <thead>\n",
       "    <tr style=\"text-align: right;\">\n",
       "      <th></th>\n",
       "      <th>OrderID</th>\n",
       "      <th>CookieID</th>\n",
       "      <th>CookieName</th>\n",
       "    </tr>\n",
       "  </thead>\n",
       "  <tbody>\n",
       "    <tr>\n",
       "      <th>126</th>\n",
       "      <td>47</td>\n",
       "      <td>4</td>\n",
       "      <td>Snickerdoodle</td>\n",
       "    </tr>\n",
       "    <tr>\n",
       "      <th>127</th>\n",
       "      <td>47</td>\n",
       "      <td>6</td>\n",
       "      <td>White Chocolate Macadamia Nut</td>\n",
       "    </tr>\n",
       "    <tr>\n",
       "      <th>128</th>\n",
       "      <td>48</td>\n",
       "      <td>3</td>\n",
       "      <td>Oatmeal Raisin</td>\n",
       "    </tr>\n",
       "    <tr>\n",
       "      <th>129</th>\n",
       "      <td>49</td>\n",
       "      <td>4</td>\n",
       "      <td>Snickerdoodle</td>\n",
       "    </tr>\n",
       "    <tr>\n",
       "      <th>130</th>\n",
       "      <td>50</td>\n",
       "      <td>6</td>\n",
       "      <td>White Chocolate Macadamia Nut</td>\n",
       "    </tr>\n",
       "  </tbody>\n",
       "</table>\n",
       "</div>"
      ],
      "text/plain": [
       "     OrderID  CookieID                     CookieName\n",
       "126       47         4                  Snickerdoodle\n",
       "127       47         6  White Chocolate Macadamia Nut\n",
       "128       48         3                 Oatmeal Raisin\n",
       "129       49         4                  Snickerdoodle\n",
       "130       50         6  White Chocolate Macadamia Nut"
      ]
     },
     "execution_count": 23,
     "metadata": {},
     "output_type": "execute_result"
    }
   ],
   "source": [
    "orders.loc[len(orders)-5:, ['OrderID', 'CookieID', 'CookieName']]"
   ]
  },
  {
   "cell_type": "markdown",
   "metadata": {},
   "source": [
    "### Conditional selection\n",
    "To do interesting things with the data, we often need to ask questions based on conditions."
   ]
  },
  {
   "cell_type": "code",
   "execution_count": 30,
   "metadata": {},
   "outputs": [
    {
     "data": {
      "text/plain": [
       "0       True\n",
       "1      False\n",
       "2      False\n",
       "3      False\n",
       "4      False\n",
       "       ...  \n",
       "126    False\n",
       "127    False\n",
       "128    False\n",
       "129    False\n",
       "130    False\n",
       "Name: CookieName, Length: 131, dtype: bool"
      ]
     },
     "execution_count": 30,
     "metadata": {},
     "output_type": "execute_result"
    }
   ],
   "source": [
    "orders.CookieName == \"Chocolate Chip\""
   ]
  },
  {
   "cell_type": "code",
   "execution_count": null,
   "metadata": {},
   "outputs": [],
   "source": [
    "# what if we want to know what's inside this true?\n",
    "\n",
    "orders.loc[orders.CookieName == 'Chocolate Chip']"
   ]
  },
  {
   "cell_type": "code",
   "execution_count": 36,
   "metadata": {},
   "outputs": [
    {
     "data": {
      "text/html": [
       "<div>\n",
       "<style scoped>\n",
       "    .dataframe tbody tr th:only-of-type {\n",
       "        vertical-align: middle;\n",
       "    }\n",
       "\n",
       "    .dataframe tbody tr th {\n",
       "        vertical-align: top;\n",
       "    }\n",
       "\n",
       "    .dataframe thead th {\n",
       "        text-align: right;\n",
       "    }\n",
       "</style>\n",
       "<table border=\"1\" class=\"dataframe\">\n",
       "  <thead>\n",
       "    <tr style=\"text-align: right;\">\n",
       "      <th></th>\n",
       "      <th>OrderID</th>\n",
       "      <th>OrderDate</th>\n",
       "      <th>OrderTotal</th>\n",
       "      <th>CookieID</th>\n",
       "      <th>CookieName</th>\n",
       "      <th>RevenuePerCookie</th>\n",
       "      <th>CostPerCookie</th>\n",
       "      <th>Quantity</th>\n",
       "      <th>CustomerID</th>\n",
       "      <th>CustomerName</th>\n",
       "      <th>Phone</th>\n",
       "      <th>Address</th>\n",
       "      <th>City</th>\n",
       "      <th>State</th>\n",
       "      <th>Zip</th>\n",
       "      <th>Country</th>\n",
       "      <th>Notes</th>\n",
       "    </tr>\n",
       "  </thead>\n",
       "  <tbody>\n",
       "    <tr>\n",
       "      <th>0</th>\n",
       "      <td>1</td>\n",
       "      <td>1/1/2022</td>\n",
       "      <td>1815</td>\n",
       "      <td>1</td>\n",
       "      <td>Chocolate Chip</td>\n",
       "      <td>5</td>\n",
       "      <td>2.0</td>\n",
       "      <td>229</td>\n",
       "      <td>5</td>\n",
       "      <td>Park &amp; Shop Convenience Stores</td>\n",
       "      <td>251-655-2909</td>\n",
       "      <td>2217 Lonely Oak Drive</td>\n",
       "      <td>Mobile</td>\n",
       "      <td>AL</td>\n",
       "      <td>36602</td>\n",
       "      <td>United States</td>\n",
       "      <td>New customer, make sure to please them! Very f...</td>\n",
       "    </tr>\n",
       "    <tr>\n",
       "      <th>18</th>\n",
       "      <td>6</td>\n",
       "      <td>1/9/2022</td>\n",
       "      <td>1586</td>\n",
       "      <td>1</td>\n",
       "      <td>Chocolate Chip</td>\n",
       "      <td>5</td>\n",
       "      <td>2.0</td>\n",
       "      <td>214</td>\n",
       "      <td>4</td>\n",
       "      <td>Wholesome Foods</td>\n",
       "      <td>347-789-7688</td>\n",
       "      <td>1521 Redbud Drive</td>\n",
       "      <td>Huntington</td>\n",
       "      <td>NY</td>\n",
       "      <td>11743</td>\n",
       "      <td>United States</td>\n",
       "      <td>CEO has three kids, first one is Charles, don'...</td>\n",
       "    </tr>\n",
       "    <tr>\n",
       "      <th>40</th>\n",
       "      <td>13</td>\n",
       "      <td>1/20/2022</td>\n",
       "      <td>3293</td>\n",
       "      <td>1</td>\n",
       "      <td>Chocolate Chip</td>\n",
       "      <td>5</td>\n",
       "      <td>2.0</td>\n",
       "      <td>201</td>\n",
       "      <td>3</td>\n",
       "      <td>ACME Bites</td>\n",
       "      <td>920-419-6270</td>\n",
       "      <td>4660 Sycamore Lake Road</td>\n",
       "      <td>Green Bay</td>\n",
       "      <td>WI</td>\n",
       "      <td>54303</td>\n",
       "      <td>United States</td>\n",
       "      <td>One of our best customers! Likes to talk about...</td>\n",
       "    </tr>\n",
       "    <tr>\n",
       "      <th>56</th>\n",
       "      <td>20</td>\n",
       "      <td>2/1/2022</td>\n",
       "      <td>1955</td>\n",
       "      <td>1</td>\n",
       "      <td>Chocolate Chip</td>\n",
       "      <td>5</td>\n",
       "      <td>2.0</td>\n",
       "      <td>244</td>\n",
       "      <td>2</td>\n",
       "      <td>ABC Groceries</td>\n",
       "      <td>801-583-8695</td>\n",
       "      <td>3215 Tori Lane</td>\n",
       "      <td>Salt Lake City</td>\n",
       "      <td>UT</td>\n",
       "      <td>84113</td>\n",
       "      <td>United States</td>\n",
       "      <td>Friendly but a little old school. Talks way to...</td>\n",
       "    </tr>\n",
       "    <tr>\n",
       "      <th>113</th>\n",
       "      <td>43</td>\n",
       "      <td>3/7/2022</td>\n",
       "      <td>3518</td>\n",
       "      <td>1</td>\n",
       "      <td>Chocolate Chip</td>\n",
       "      <td>5</td>\n",
       "      <td>2.0</td>\n",
       "      <td>209</td>\n",
       "      <td>5</td>\n",
       "      <td>Park &amp; Shop Convenience Stores</td>\n",
       "      <td>251-655-2909</td>\n",
       "      <td>2217 Lonely Oak Drive</td>\n",
       "      <td>Mobile</td>\n",
       "      <td>AL</td>\n",
       "      <td>36602</td>\n",
       "      <td>United States</td>\n",
       "      <td>New customer, make sure to please them! Very f...</td>\n",
       "    </tr>\n",
       "  </tbody>\n",
       "</table>\n",
       "</div>"
      ],
      "text/plain": [
       "     OrderID  OrderDate  OrderTotal  CookieID      CookieName  \\\n",
       "0          1   1/1/2022        1815         1  Chocolate Chip   \n",
       "18         6   1/9/2022        1586         1  Chocolate Chip   \n",
       "40        13  1/20/2022        3293         1  Chocolate Chip   \n",
       "56        20   2/1/2022        1955         1  Chocolate Chip   \n",
       "113       43   3/7/2022        3518         1  Chocolate Chip   \n",
       "\n",
       "     RevenuePerCookie  CostPerCookie  Quantity  CustomerID  \\\n",
       "0                   5            2.0       229           5   \n",
       "18                  5            2.0       214           4   \n",
       "40                  5            2.0       201           3   \n",
       "56                  5            2.0       244           2   \n",
       "113                 5            2.0       209           5   \n",
       "\n",
       "                       CustomerName         Phone                  Address  \\\n",
       "0    Park & Shop Convenience Stores  251-655-2909    2217 Lonely Oak Drive   \n",
       "18                  Wholesome Foods  347-789-7688        1521 Redbud Drive   \n",
       "40                       ACME Bites  920-419-6270  4660 Sycamore Lake Road   \n",
       "56                    ABC Groceries  801-583-8695           3215 Tori Lane   \n",
       "113  Park & Shop Convenience Stores  251-655-2909    2217 Lonely Oak Drive   \n",
       "\n",
       "               City State    Zip        Country  \\\n",
       "0            Mobile    AL  36602  United States   \n",
       "18       Huntington    NY  11743  United States   \n",
       "40        Green Bay    WI  54303  United States   \n",
       "56   Salt Lake City    UT  84113  United States   \n",
       "113          Mobile    AL  36602  United States   \n",
       "\n",
       "                                                 Notes  \n",
       "0    New customer, make sure to please them! Very f...  \n",
       "18   CEO has three kids, first one is Charles, don'...  \n",
       "40   One of our best customers! Likes to talk about...  \n",
       "56   Friendly but a little old school. Talks way to...  \n",
       "113  New customer, make sure to please them! Very f...  "
      ]
     },
     "execution_count": 36,
     "metadata": {},
     "output_type": "execute_result"
    }
   ],
   "source": [
    "# More than one condition\n",
    "orders.loc[(orders.CookieName == 'Chocolate Chip') & (orders.Quantity > 200)]\n",
    "\n",
    "\n",
    "# NOTE >> like we used & as \"and\", we can also use | as \"or\"."
   ]
  },
  {
   "cell_type": "markdown",
   "metadata": {},
   "source": [
    "### Built-in Conditional selectors\n",
    "\n",
    "- isin\n",
    "\n",
    "- isnull & notnull"
   ]
  },
  {
   "cell_type": "code",
   "execution_count": 39,
   "metadata": {},
   "outputs": [
    {
     "data": {
      "text/html": [
       "<div>\n",
       "<style scoped>\n",
       "    .dataframe tbody tr th:only-of-type {\n",
       "        vertical-align: middle;\n",
       "    }\n",
       "\n",
       "    .dataframe tbody tr th {\n",
       "        vertical-align: top;\n",
       "    }\n",
       "\n",
       "    .dataframe thead th {\n",
       "        text-align: right;\n",
       "    }\n",
       "</style>\n",
       "<table border=\"1\" class=\"dataframe\">\n",
       "  <thead>\n",
       "    <tr style=\"text-align: right;\">\n",
       "      <th></th>\n",
       "      <th>OrderID</th>\n",
       "      <th>OrderDate</th>\n",
       "      <th>OrderTotal</th>\n",
       "      <th>CookieID</th>\n",
       "      <th>CookieName</th>\n",
       "      <th>RevenuePerCookie</th>\n",
       "      <th>CostPerCookie</th>\n",
       "      <th>Quantity</th>\n",
       "      <th>CustomerID</th>\n",
       "      <th>CustomerName</th>\n",
       "      <th>Phone</th>\n",
       "      <th>Address</th>\n",
       "      <th>City</th>\n",
       "      <th>State</th>\n",
       "      <th>Zip</th>\n",
       "      <th>Country</th>\n",
       "      <th>Notes</th>\n",
       "    </tr>\n",
       "  </thead>\n",
       "  <tbody>\n",
       "  </tbody>\n",
       "</table>\n",
       "</div>"
      ],
      "text/plain": [
       "Empty DataFrame\n",
       "Columns: [OrderID, OrderDate, OrderTotal, CookieID, CookieName, RevenuePerCookie, CostPerCookie, Quantity, CustomerID, CustomerName, Phone, Address, City, State, Zip, Country, Notes]\n",
       "Index: []"
      ]
     },
     "execution_count": 39,
     "metadata": {},
     "output_type": "execute_result"
    }
   ],
   "source": [
    "orders.loc[orders.Country.isnull()]"
   ]
  },
  {
   "cell_type": "markdown",
   "metadata": {},
   "source": [
    ". . .  . . . . . . . . . . . . . . . . .\n",
    "<br> <br>\n",
    "\n",
    "* *for more resources you can visit <a href=\"https://www.kaggle.com/learn\">Kaggle</a> or <a href=\"https://www.coursera.org/professional-certificates/ibm-data-science\">IBM Skills</a>*\n",
    "\n",
    "* *It will be great if you use the AI chatbots to quiz or to get more details.*\n",
    "\n",
    "<br>\n",
    "<hr>\n",
    "\n",
    "Created by <a href=\"https://github.com/mohamedyosef101\">Mohamed Yosef </a>\n",
    "\n",
    "*You can follow me on <a href=\"https://medium.com/@mohamedyosef101\">Medium</a> - <a href=\"https://linkedin.com/in/mohamedyosef101\">LinkedIn</a>*\n",
    "\n",
    "<hr>"
   ]
  }
 ],
 "metadata": {
  "kernelspec": {
   "display_name": "Python 3",
   "language": "python",
   "name": "python3"
  },
  "language_info": {
   "codemirror_mode": {
    "name": "ipython",
    "version": 3
   },
   "file_extension": ".py",
   "mimetype": "text/x-python",
   "name": "python",
   "nbconvert_exporter": "python",
   "pygments_lexer": "ipython3",
   "version": "3.11.4"
  },
  "orig_nbformat": 4
 },
 "nbformat": 4,
 "nbformat_minor": 2
}
