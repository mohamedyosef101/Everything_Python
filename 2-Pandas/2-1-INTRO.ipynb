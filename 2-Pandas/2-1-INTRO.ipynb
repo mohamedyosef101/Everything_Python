{
 "cells": [
  {
   "cell_type": "markdown",
   "metadata": {},
   "source": [
    "### Why Pandas\n",
    "\n",
    "Pandas is the most popular Python library for data analysis, so let's see why they use it.\n",
    "\n",
    "#### Getting started\n"
   ]
  },
  {
   "cell_type": "code",
   "execution_count": null,
   "metadata": {},
   "outputs": [],
   "source": [
    "import pandas as pd"
   ]
  },
  {
   "cell_type": "markdown",
   "metadata": {},
   "source": [
    "## Creating data\n",
    "there are two core objects in pandas: <b style=\"color: #00a1ff\">DataFrame</b> and <b style=\"color: #00a1ff\">Series</b>\n",
    "\n",
    "### DataFrame\n",
    "Is a table. It contains an array of entries with certain value."
   ]
  },
  {
   "cell_type": "code",
   "execution_count": null,
   "metadata": {},
   "outputs": [],
   "source": [
    "pd.DataFrame({\"Books\": [20, 26], \"Novels\": [100, 200]})"
   ]
  },
  {
   "cell_type": "markdown",
   "metadata": {},
   "source": [
    "### Series\n",
    "A sequence of data values. If <span style=\"color: #00a1ff\">DataFrame </span> is a table, a <span style=\"color: #00a1ff\">Series</span> is a list."
   ]
  },
  {
   "cell_type": "code",
   "execution_count": null,
   "metadata": {},
   "outputs": [],
   "source": [
    "pd.Series([1, 2, 3, 4, 5])"
   ]
  },
  {
   "cell_type": "code",
   "execution_count": null,
   "metadata": {},
   "outputs": [],
   "source": [
    "pd.Series([30, 35, 40], index=['2015 Sales', '2016 Sales', '2017 Sales'], name='Product A')"
   ]
  },
  {
   "cell_type": "markdown",
   "metadata": {},
   "source": [
    "### Reading data files\n",
    "Most of the time, we won't actually be creating our own data by hand. Instead, we'll be working with data that already exist.\n"
   ]
  },
  {
   "cell_type": "code",
   "execution_count": null,
   "metadata": {},
   "outputs": [],
   "source": [
    "Kitty_survery = pd.read_csv(\"./2-99-Data_files/Kitty-Survey.csv\")\n",
    "\n",
    "# the dimentionality of the data file\n",
    "Kitty_survery.shape "
   ]
  },
  {
   "cell_type": "code",
   "execution_count": null,
   "metadata": {},
   "outputs": [],
   "source": [
    "# return the first n rows -- defualt n = 5\n",
    "Kitty_survery.head(0)"
   ]
  },
  {
   "cell_type": "markdown",
   "metadata": {},
   "source": [
    "### Renaming\n",
    "change index / column names."
   ]
  },
  {
   "cell_type": "code",
   "execution_count": null,
   "metadata": {},
   "outputs": [],
   "source": [
    "Kitty_survery.rename(columns={'Q1: How many times a year do you do a DIY project?': 'projects/year'})"
   ]
  },
  {
   "cell_type": "markdown",
   "metadata": {},
   "source": [
    ". . .  . . . . . . . . . . . . . . . . .\n",
    "<br> <br>\n",
    "\n",
    "* *for more resources you can visit <a href=\"https://www.kaggle.com/learn\">Kaggle</a> or <a href=\"https://www.coursera.org/professional-certificates/ibm-data-science\">IBM Skills</a>*\n",
    "\n",
    "* *It will be great if you use the AI chatbots to quiz or to get more details.*\n",
    "\n",
    "<br>\n",
    "<hr>\n",
    "\n",
    "Created by <a href=\"https://github.com/mohamedyosef101\">Mohamed Yosef </a>\n",
    "\n",
    "*You can follow me on <a href=\"https://medium.com/@mohamedyosef101\">Medium</a> - <a href=\"https://linkedin.com/in/mohamedyosef101\">LinkedIn</a>*\n",
    "\n",
    "<hr>"
   ]
  }
 ],
 "metadata": {
  "kernelspec": {
   "display_name": "Python 3",
   "language": "python",
   "name": "python3"
  },
  "language_info": {
   "codemirror_mode": {
    "name": "ipython",
    "version": 3
   },
   "file_extension": ".py",
   "mimetype": "text/x-python",
   "name": "python",
   "nbconvert_exporter": "python",
   "pygments_lexer": "ipython3",
   "version": "3.11.4"
  },
  "orig_nbformat": 4
 },
 "nbformat": 4,
 "nbformat_minor": 2
}
