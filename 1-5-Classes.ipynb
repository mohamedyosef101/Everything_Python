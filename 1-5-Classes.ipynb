{
 "cells": [
  {
   "cell_type": "markdown",
   "metadata": {},
   "source": [
    "# Classes\n",
    "\n",
    "Think of a class as a blueprint or template for creating objects."
   ]
  },
  {
   "cell_type": "markdown",
   "metadata": {},
   "source": [
    "### Defining a Class\n",
    "Use the <span style=\"color: #00a1ff\">class</span> keyword to define a class:\n"
   ]
  },
  {
   "cell_type": "code",
   "execution_count": null,
   "metadata": {},
   "outputs": [],
   "source": [
    "class MyClass:\n",
    "  # Class attributes and methods go here"
   ]
  },
  {
   "cell_type": "markdown",
   "metadata": {},
   "source": [
    "The class name is MyClass in this case. You can define attributes and methods inside the class body.\n",
    "\n",
    "__\n",
    "\n",
    "### Creating object Instances\n",
    "Once you have defined a class, you can create instances of that class by calling the class like a function:"
   ]
  },
  {
   "cell_type": "code",
   "execution_count": null,
   "metadata": {},
   "outputs": [],
   "source": [
    "my_object = MyClass()"
   ]
  },
  {
   "cell_type": "markdown",
   "metadata": {},
   "source": [
    "This creates my_object as an instance of the MyClass class.\n",
    "\n",
    "__\n",
    "\n",
    "### Class Attributes\n",
    "Class attributes are variables that are shared across all instances of the class. Define them inside the class but outside any methods:\n",
    "\n"
   ]
  },
  {
   "cell_type": "code",
   "execution_count": null,
   "metadata": {},
   "outputs": [],
   "source": [
    "class MyClass:\n",
    "  class_attribute = \"Hello\"\n",
    "    \n",
    "  def __init__(self):\n",
    "    self.instance_attribute = \"World\""
   ]
  },
  {
   "cell_type": "markdown",
   "metadata": {},
   "source": [
    "class_attribute can be accessed directly on the class or on any instance, while instance_attribute is specific to each instance.\n",
    "\n",
    "__\n",
    "\n",
    "### Instance Methods\n",
    "\n",
    "Methods are functions defined inside a class. The first parameter (self) refers to the current instance:\n",
    "\n"
   ]
  },
  {
   "cell_type": "code",
   "execution_count": null,
   "metadata": {},
   "outputs": [],
   "source": [
    "class MyClass:\n",
    "\n",
    "  def instance_method(self):\n",
    "    print(f\"Called on {self}\")\n",
    "    \n",
    "my_object = MyClass()\n",
    "my_object.instance_method() # Called on <__main__.MyClass object at 0x10404e748>"
   ]
  },
  {
   "cell_type": "markdown",
   "metadata": {},
   "source": [
    "<h3>__init__ Method</h3>\n",
    "\n",
    "<p>The <span style=\"color: #00a1ff\">__init__</span> method is called automatically when an instance is created. Use it to initialize attributes:</p>\n",
    "\n"
   ]
  },
  {
   "cell_type": "code",
   "execution_count": null,
   "metadata": {},
   "outputs": [],
   "source": [
    "class Person:\n",
    "\n",
    "  def __init__(self, name, age):\n",
    "    self.name = name\n",
    "    self.age = age\n",
    "\n",
    "p1 = Person(\"John\", 36)\n",
    "print(p1.name) # John\n",
    "print(p1.age) # 36"
   ]
  },
  {
   "cell_type": "markdown",
   "metadata": {},
   "source": [
    "<hr>\n",
    "\n",
    "# Quiz Time\n",
    "\n",
    "Create a <span style=\"color: #00a1ff\">Student</span> class that has the following features:\n",
    "\n",
    "- The class should have a name attribute and a subjects attribute (a list of strings)\n",
    "\n",
    "- It should have an init() method to initialize the name and start with an empty subjects list\n",
    "\n",
    "- It should have an add_subject() method to add a new subject to the list\n",
    "\n",
    "- It should have a print_schedule() method to print the name and list of subjects\n",
    "\n",
    "\n",
    "###### The step-by-step walkthrough is:\n",
    "\n",
    "- Define the empty Student class\n",
    "\n",
    "- Add init() method to initialize name and subjects\n",
    "\n",
    "- Add add_subject() method to add to subjects list\n",
    "\n",
    "- Add print_schedule() to print name and subjects\n",
    "\n",
    "- Create a Student instance and test the methods\n"
   ]
  },
  {
   "cell_type": "code",
   "execution_count": 2,
   "metadata": {},
   "outputs": [],
   "source": [
    "# Let's Get it DONE\n"
   ]
  },
  {
   "cell_type": "markdown",
   "metadata": {},
   "source": [
    "<details><summary>Click here for the solution</summary>\n",
    "\n",
    "```python\n",
    "#define the class\n",
    "class Student:\n",
    "\n",
    "    # init() method to initailise name and subjects\n",
    "    def __init__(self, name, subjects):\n",
    "        self.name = name\n",
    "        self.subjects = subjects\n",
    "\n",
    "    # add subject method to add to subjects list\n",
    "    def add_subject(self, subject):\n",
    "        self.subjects.append(subject)\n",
    "\n",
    "    # print schedule method to print name and subjects\n",
    "    def print_schedule(self):\n",
    "        print(self.name)\n",
    "        for subject in self.subjects:\n",
    "            print(subject)\n",
    "\n",
    "# the test \n",
    "Mohamed = Student(\"Mohamed Yosef\", [\"Math\", \"Statistics\"])\n",
    "Mohamed.add_subject(\"Python\")\n",
    "\n",
    "Mohamed.print_schedule()\n",
    "\n",
    "```\n",
    "\n",
    "</details>"
   ]
  }
 ],
 "metadata": {
  "kernelspec": {
   "display_name": "Python 3",
   "language": "python",
   "name": "python3"
  },
  "language_info": {
   "codemirror_mode": {
    "name": "ipython",
    "version": 3
   },
   "file_extension": ".py",
   "mimetype": "text/x-python",
   "name": "python",
   "nbconvert_exporter": "python",
   "pygments_lexer": "ipython3",
   "version": "3.11.4"
  },
  "orig_nbformat": 4
 },
 "nbformat": 4,
 "nbformat_minor": 2
}
